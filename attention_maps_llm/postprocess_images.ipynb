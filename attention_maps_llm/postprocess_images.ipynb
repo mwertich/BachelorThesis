{
 "cells": [
  {
   "cell_type": "code",
   "execution_count": 2,
   "metadata": {},
   "outputs": [],
   "source": [
    "from PIL import Image\n",
    "\n",
    "in_path = \"thesis_attention_maps_stats/\"\n",
    "out_path = \"thesis_output_statistics/\"\n",
    "word = \"Ant\"\n",
    "layer1, layer2, layer3, layer4 = 1, 11, 21, 31\n",
    "k = 3\n",
    "#path1 = in_path + f\"Cosine Similarities for Target Clue Ant.png\"\n",
    "path1 = in_path + f\"Attention Map for Target Clue {word}, Layer {layer1}.png\"\n",
    "path2 = in_path + f\"Attention Map for Target Clue {word}, Layer {layer2}.png\"\n",
    "path3 = in_path + f\"Attention Map for Target Clue {word}, Layer {layer3}.png\"\n",
    "path4 = in_path + f\"Attention Map for Target Clue {word}, Layer {layer4}.png\"\n",
    "out_path = out_path + f\"Attention Map Random for {word}, k = {k}, Layer {layer1}, {layer2}, {layer3}, {layer4}.png\"\n",
    "\n",
    "#path1 = in_path + f\"Squared Singular Values of W_q, W_k and W_v in layer {layer1}_learned.png\"\n",
    "#path2 = in_path + f\"Squared Singular Values of W_q, W_k and W_v in layer {layer2}_learned.png\"\n",
    "#path3 = in_path + f\"Squared Singular Values of W_q, W_k and W_v in layer {layer3}_learned.png\"\n",
    "#path4 = in_path + f\"Squared Singular Values of W_q, W_k and W_v in layer {layer4}_learned.png\"\n",
    "#out_path = out_path + f\"Aggregated Squared Singular Values of W_q, W_k and W_v in layer {layer1}, {layer2}, {layer3}, {layer4}_learned.png\"\n",
    "\n",
    "#path1 = in_path + f\"Squared Singular Values of W_Up and W_Down in layer {layer1}_learned.png\"\n",
    "#path2 = in_path + f\"Squared Singular Values of W_Up and W_Down in layer {layer2}_learned.png\"\n",
    "#path3 = in_path + f\"Squared Singular Values of W_Up and W_Down in layer {layer3}_learned.png\"\n",
    "#path4 = in_path + f\"Squared Singular Values of W_Up and W_Down in layer {layer4}_learned.png\"\n",
    "#out_path = out_path + f\"Aggregated Squared Singular Values of W_Up and W_Down in layer {layer1}, {layer2}, {layer3}, {layer4}_learned.png\"\n",
    "\n",
    "\n",
    "# Load the four images\n",
    "image1 = Image.open(path1)\n",
    "image2 = Image.open(path2)\n",
    "image3 = Image.open(path3)\n",
    "image4 = Image.open(path4)\n",
    "\n",
    "# Determine the width and height of the new image\n",
    "width, height = image1.width, image1.height\n",
    "\n",
    "# Create a new blank image with the appropriate size\n",
    "new_image = Image.new('RGB', (2 * width, 2 * height), color=\"white\")\n",
    "\n",
    "# Paste the images into the new image\n",
    "new_image.paste(image1, (0, 0))\n",
    "new_image.paste(image2, (width, 0))\n",
    "new_image.paste(image3, (0, height))\n",
    "new_image.paste(image4, (width, height))\n",
    "\n",
    "# Save the new image\n",
    "new_image.save(out_path)\n",
    "\n",
    "# Display the new image\n",
    "new_image.show()"
   ]
  }
 ],
 "metadata": {
  "kernelspec": {
   "display_name": "Python 3",
   "language": "python",
   "name": "python3"
  },
  "language_info": {
   "codemirror_mode": {
    "name": "ipython",
    "version": 3
   },
   "file_extension": ".py",
   "mimetype": "text/x-python",
   "name": "python",
   "nbconvert_exporter": "python",
   "pygments_lexer": "ipython3",
   "version": "3.11.8"
  }
 },
 "nbformat": 4,
 "nbformat_minor": 2
}